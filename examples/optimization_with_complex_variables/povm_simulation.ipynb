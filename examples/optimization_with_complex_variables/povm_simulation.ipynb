{
 "cells": [
  {
   "cell_type": "markdown",
   "metadata": {},
   "source": [
    "This notebook shows how we can check how much depolarizing noise a qubit positive operator-valued measure (POVM) can take before it becomes simulable by projective measurements. The general method is described in [arXiv:1609.06139](https://arxiv.org/abs/1609.06139). The question of simulability by projective measurements boils down to an SDP problem. Eq. (8) from the paper defines the noisy POVM that we obtain subjecting a POVM $\\mathbf{M}$ to a depolarizing channel $\\Phi_t$:\n",
    "\n",
    "$\\left[\\Phi_t\\left(\\mathbf{M}\\right)\\right]_i := t M_i + (1-t)\\frac{\\mathrm{tr}(M_i)}{d} \\mathbb{1}$.\n",
    "\n",
    "If this visibility $t\\in[0,1]$ is one, the POVM $\\mathbf{M}$ is simulable.\n",
    "\n",
    "We will use Convex.jl to solve the SDP problem."
   ]
  },
  {
   "cell_type": "code",
   "execution_count": null,
   "metadata": {
    "ExecuteTime": {
     "end_time": "2017-01-06T22:57:42.633901",
     "start_time": "2017-01-06T21:57:39.471Z"
    },
    "collapsed": false
   },
   "outputs": [],
   "source": [
    "using Convex"
   ]
  },
  {
   "cell_type": "markdown",
   "metadata": {},
   "source": [
    "For the qubit case, a four outcome qubit POVM $\\mathbf{M} \\in\\mathcal{P}(2,4)$ is simulable if and only if \n",
    "\n",
    "$M_{1}=N_{12}^{+}+N_{13}^{+}+N_{14}^{+},$\n",
    "\n",
    "$M_{2}=N_{12}^{-}+N_{23}^{+}+N_{24}^{+},$\n",
    "\n",
    "$M_{3}=N_{13}^{-}+N_{23}^{-}+N_{34}^{+},$\n",
    "\n",
    "$M_{4}=N_{14}^{-}+N_{24}^{-}+N_{34}^{-},$\n",
    "\n",
    "where Hermitian operators $N_{ij}^{\\pm}$ satisfy $N_{ij}^{\\pm}\\geq0$ and $N_{ij}^{+}+N_{ij}^{-}=p_{ij}\\mathbb{1}$, where $i<j$ , $i,j=1,2,3,4$ and $p_{ij}\\geq0$ as well as $\\sum_{i<j}p_{ij}=1$, that is, the $p_{ij}$ values form a probability vector. This forms an SDP feasibility problem, which we can rephrase as an optimization problem by adding depolarizing noise to the left-hand side of the above equations and maximizing the visibility $t$:\n",
    "\n",
    "$\\max_{t\\in[0,1]} t$\n",
    "\n",
    "such that\n",
    "\n",
    "$t\\,M_{1}+(1-t)\\,\\mathrm{tr}(M_{1})\\frac{\\mathbb{1}}{2}=N_{12}^{+}+N_{13}^{+}+N_{14}^{+},$\n",
    "\n",
    "$t\\,M_{2}+(1-t)\\,\\mathrm{tr}(M_{2})\\frac{\\mathbb{1}}{2}=N_{12}^{-}+N_{23}^{+}+N_{24}^{+},$\n",
    "\n",
    "$t\\,M_{3}+(1-t)\\,\\mathrm{tr}(M_{3})\\frac{\\mathbb{1}}{2}=N_{13}^{-}+N_{23}^{-}+N_{34}^{+},$\n",
    "\n",
    "$t\\,M_{4}+(1-t)\\,\\mathrm{tr}(M_{4})\\frac{\\mathbb{1}}{2}=N_{14}^{-}+N_{24}^{-}+N_{34}^{-}$.\n",
    "\n",
    "We organize these constraints in a function that takes a four-output qubit POVM as its argument:"
   ]
  },
  {
   "cell_type": "code",
   "execution_count": 2,
   "metadata": {
    "ExecuteTime": {
     "end_time": "2017-01-06T22:57:45.681442",
     "start_time": "2017-01-06T21:57:45.434Z"
    },
    "collapsed": false
   },
   "outputs": [
    {
     "data": {
      "text/plain": [
       "get_visibility (generic function with 1 method)"
      ]
     },
     "execution_count": 2,
     "metadata": {},
     "output_type": "execute_result"
    }
   ],
   "source": [
    "function get_visibility(K)\n",
    "    noise = real([trace(K[i])*eye(2)/2 for i=1:size(K, 1)])\n",
    "    P = [[ComplexVariable(2, 2) for i=1:2] for j=1:6]\n",
    "    q = Variable(6, Positive())\n",
    "    t = Variable(1, Positive())\n",
    "    constraints = [P[i][j] in :SDP for i=1:6 for j=1:2]\n",
    "    constraints += sum(q)==1\n",
    "    constraints += t<=1\n",
    "    constraints += [P[i][1]+P[i][2] == q[i]*eye(2) for i=1:6]\n",
    "    constraints += t*K[1] + (1-t)*noise[1] == P[1][1] + P[2][1] + P[3][1]\n",
    "    constraints += t*K[2] + (1-t)*noise[2] == P[1][2] + P[4][1] + P[5][1]\n",
    "    constraints += t*K[3] + (1-t)*noise[3] == P[2][2] + P[4][2] + P[6][1]\n",
    "    constraints += t*K[4] + (1-t)*noise[4] == P[3][2] + P[5][2] + P[6][2]\n",
    "    p = maximize(t, constraints)\n",
    "    solve!(p)\n",
    "    return p.optval\n",
    "end"
   ]
  },
  {
   "cell_type": "markdown",
   "metadata": {
    "ExecuteTime": {
     "end_time": "2017-01-06T22:32:59.134197",
     "start_time": "2017-01-06T21:32:58.849Z"
    }
   },
   "source": [
    "We check this function using the tetrahedron measurement (see Appendix B in [arXiv:quant-ph/0702021](https://arxiv.org/abs/quant-ph/0702021)). This measurement is non-simulable, so we expect a value below one."
   ]
  },
  {
   "cell_type": "code",
   "execution_count": 3,
   "metadata": {
    "ExecuteTime": {
     "end_time": "2017-01-06T22:58:02.947246",
     "start_time": "2017-01-06T21:57:49.136Z"
    },
    "collapsed": false
   },
   "outputs": [
    {
     "name": "stdout",
     "output_type": "stream",
     "text": [
      "(size(coeff),size(var)) = ((4,4),(4,4))\n",
      "(size(coeff),size(var)) = ((4,4),(4,4))\n",
      "(size(coeff),size(var)) = ((4,4),(4,4))\n",
      "(size(coeff),size(var)) = ((4,4),(4,4))\n",
      "(size(coeff),size(var)) = ((4,4),(4,4))\n",
      "(size(coeff),size(var)) = ((4,4),(4,4))\n",
      "(size(coeff),size(var)) = ((4,4),(4,4))\n",
      "(size(coeff),size(var)) = ((4,4),(4,4))\n",
      "(size(coeff),size(var)) = ((4,4),(4,4))\n",
      "(size(coeff),size(var)) = ((4,4),(4,4))\n",
      "(size(coeff),size(var)) = ((4,4),(4,4))\n",
      "(size(coeff),size(var)) = ((4,4),(4,4))\n",
      "Problem\n",
      "  Name                   :                 \n",
      "  Objective sense        : min             \n",
      "  Type                   : CONIC (conic optimization problem)\n",
      "  Constraints            : 282             \n",
      "  Cones                  : 0               \n",
      "  Scalar variables       : 104             \n",
      "  Matrix variables       : 12              \n",
      "  Integer variables      : 0               \n",
      "\n",
      "Optimizer started.\n",
      "Conic interior-point optimizer started.\n",
      "Presolve started.\n",
      "Linear dependency checker started.\n",
      "Linear dependency checker terminated.\n",
      "Eliminator started.\n",
      "Freed constraints in eliminator : 59\n",
      "Eliminator terminated.\n",
      "Eliminator started.\n",
      "Freed constraints in eliminator : 0\n",
      "Eliminator terminated.\n",
      "Eliminator - tries                  : 2                 time                   : 0.00            \n",
      "Lin. dep.  - tries                  : 1                 time                   : 0.00            \n",
      "Lin. dep.  - number                 : 48              \n",
      "Presolve terminated. Time: 0.00    \n",
      "Optimizer  - threads                : 2               \n",
      "Optimizer  - solved problem         : the primal      \n",
      "Optimizer  - Constraints            : 123\n",
      "Optimizer  - Cones                  : 1\n",
      "Optimizer  - Scalar variables       : 22                conic                  : 15              \n",
      "Optimizer  - Semi-definite variables: 12                scalarized             : 120             \n",
      "Factor     - setup time             : 0.00              dense det. time        : 0.00            \n",
      "Factor     - ML order time          : 0.00              GP order time          : 0.00            \n",
      "Factor     - nonzeros before factor : 5110              after factor           : 5110            \n",
      "Factor     - dense dim.             : 0                 flops                  : 3.40e+05        \n",
      "ITE PFEAS    DFEAS    GFEAS    PRSTATUS   POBJ              DOBJ              MU       TIME  \n",
      "0   1.1e+00  2.0e+00  1.0e+00  0.00e+00   0.000000000e+00   0.000000000e+00   1.0e+00  0.01  \n",
      "1   3.1e-01  5.5e-01  1.2e+00  3.75e+00   -1.038525343e+00  -1.086175515e+00  2.8e-01  0.01  \n",
      "2   7.7e-03  1.4e-02  2.4e-01  1.82e+00   -8.337943527e-01  -8.346388356e-01  6.9e-03  0.01  \n",
      "3   3.8e-05  6.7e-05  1.7e-02  1.03e+00   -8.165720352e-01  -8.165773403e-01  3.4e-05  0.01  \n",
      "4   1.6e-07  2.8e-07  1.1e-03  1.00e+00   -8.164968247e-01  -8.164968472e-01  1.4e-07  0.02  \n",
      "5   9.1e-09  1.6e-08  2.7e-04  1.00e+00   -8.164965879e-01  -8.164965892e-01  8.1e-09  0.02  \n",
      "Interior-point optimizer terminated. Time: 0.02. \n",
      "\n",
      "Optimizer terminated. Time: 0.04    \n"
     ]
    },
    {
     "data": {
      "text/plain": [
       "0.8164965878595278"
      ]
     },
     "execution_count": 3,
     "metadata": {},
     "output_type": "execute_result"
    }
   ],
   "source": [
    "function dp(v)\n",
    "    eye(2) + v[1]*[0 1; 1 0] + v[2]*[0 -im; im 0] + v[3]*[1 0; 0 -1]\n",
    "end\n",
    "b = [ 1  1  1; \n",
    "     -1 -1  1; \n",
    "     -1  1 -1;  \n",
    "      1 -1 -1]/sqrt(3)\n",
    "M = [dp(b[i, :]) for i=1:size(b,1)]/4;\n",
    "get_visibility(M)"
   ]
  },
  {
   "cell_type": "markdown",
   "metadata": {},
   "source": [
    "This value matches the one [we obtained](https://github.com/peterwittek/ipython-notebooks/blob/master/Simulating_POVMs.ipynb) using [PICOS](http://picos.zib.de/)."
   ]
  }
 ],
 "metadata": {
  "anaconda-cloud": {},
  "kernelspec": {
   "display_name": "Julia 0.5.0-rc3",
   "language": "julia",
   "name": "julia-0.5"
  },
  "language_info": {
   "file_extension": ".jl",
   "mimetype": "application/julia",
   "name": "julia",
   "version": "0.5.1"
  }
 },
 "nbformat": 4,
 "nbformat_minor": 2
}
