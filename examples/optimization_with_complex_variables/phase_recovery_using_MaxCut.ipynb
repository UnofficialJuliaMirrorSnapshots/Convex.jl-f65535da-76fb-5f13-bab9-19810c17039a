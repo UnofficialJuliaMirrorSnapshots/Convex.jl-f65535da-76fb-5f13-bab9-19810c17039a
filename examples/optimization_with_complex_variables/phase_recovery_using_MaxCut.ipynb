{
 "cells": [
  {
   "cell_type": "markdown",
   "metadata": {},
   "source": [
    "In this example, we relax the phase retrieval problem similar to the classical [MaxCut](http://www-math.mit.edu/~goemans/PAPERS/maxcut-jacm.pdf) semidefinite program and recover the phase of the signal given the magnitude of the linear measurements.\n",
    "\n",
    "Phase recovery has wide applications such as  in X-ray and crystallography imaging, diffraction imaging or microscopy and audio signal processing. In all these applications, the detectors cannot measure the phase of the incoming wave and only record its amplitude i.e complex measurements of a signal $x \\in \\mathbb{C}^p$ are obtained from a linear injective operator A, **but we can only measure the magnitude vector Ax, not the phase fo Ax**.\n",
    "\n",
    "Recovering the phase of Ax from |Ax| is a **nonconvex optimization problem**. Using results from [this paper](https://arxiv.org/abs/1206.0102), the problem can be relaxed to a (complex) semidefinite program (complex SDP).\n",
    "\n",
    "The original reprsentation of the problem is as follows:\n",
    "\n",
    ">>>> find x\n",
    "\n",
    ">>>> such that |Ax| = b\n",
    "\n",
    ">>>> where $x \\in \\mathbb{C}^p$, $A \\in \\mathbb{C}^{n \\times p}$ and $b \\in \\mathbb{R}^n$."
   ]
  },
  {
   "cell_type": "markdown",
   "metadata": {},
   "source": [
    "In this example, **the problem is to find the phase of Ax given the value |Ax|**. Given a linear operator $A$ and a vector $b= |Ax|$ of measured amplitudes, in the noiseless case, we can write Ax = diag(b)u where $u \\in \\mathbb{C}^n$ is a phase vector, satisfying |$\\mathbb{u}_i$| = 1 for i = 1,. . . , n. \n",
    "\n",
    "We relax this problem as Complex Semidefinite Programming.\n",
    "\n",
    "### Relaxed Problem similar to [MaxCut](http://www-math.mit.edu/~goemans/PAPERS/maxcut-jacm.pdf)\n",
    "\n",
    "Define the positive semidefinite hermitian matrix $M = \\text{diag}(b) (I - A A^*) \\text{diag}(b)$. The problem is:\n",
    "\n",
    "                minimize < U,M >\n",
    "                subject to \n",
    "                diag(U) = 1\n",
    "                U in :HermitianSemiDefinite\n",
    "                \n",
    "Here the variable $U$ must be hermitian ($U \\in \\mathbb{H}_n $), and we have a solution to the phase recovery problem if $U = u u^*$ has rank one. Otherwise, the leading singular vector of $U$ can be used to approximate the solution."
   ]
  },
  {
   "cell_type": "code",
   "execution_count": null,
   "metadata": {},
   "outputs": [],
   "source": [
    "using Convex\n",
    "using LinearAlgebra\n",
    "if VERSION < v\"1.2.0-DEV.0\"\n",
    "    (I::UniformScaling)(n::Integer) = Diagonal(fill(I.λ, n))\n",
    "     LinearAlgebra.diagm(v::AbstractVector) = diagm(0 => v)\n",
    "end\n",
    "\n",
    "import SCS\n",
    "# passing in verbose=0 to hide output from SCS\n",
    "solver = SCS.SCSSolver(verbose=0)\n",
    "\n",
    "n = 20\n",
    "p = 2\n",
    "A = rand(n,p) + im*randn(n,p)\n",
    "x = rand(p) + im*randn(p)\n",
    "b = abs.(A*x) + rand(n)\n",
    "\n",
    "M = diagm(b)*(I(n)-A*A')*diagm(b)\n",
    "U = ComplexVariable(n,n)\n",
    "objective = inner_product(U,M)\n",
    "c1 = diag(U) == 1 \n",
    "c2 = U in :SDP\n",
    "p = minimize(objective,c1,c2)\n",
    "solve!(p, solver)\n",
    "U.value"
   ]
  },
  {
   "cell_type": "code",
   "execution_count": null,
   "metadata": {},
   "outputs": [],
   "source": [
    "# Verify if the rank of U is 1\n",
    "B, C = eigen(U.value);\n",
    "println(length([e for e in B if(abs(real(e))>1e-4)]))\n",
    "#Decompose U = uu*\n",
    "# u is the phase of Ax\n",
    "u = C[:,1];\n",
    "for i in 1:n\n",
    "    u[i] = u[i]/abs(u[i])\n",
    "end\n",
    "u"
   ]
  }
 ],
 "metadata": {
  "anaconda-cloud": {},
  "kernelspec": {
   "display_name": "Julia 1.2.0",
   "language": "julia",
   "name": "julia-1.2"
  },
  "language_info": {
   "file_extension": ".jl",
   "mimetype": "application/julia",
   "name": "julia",
   "version": "1.2.0"
  }
 },
 "nbformat": 4,
 "nbformat_minor": 1
}
