{
 "cells": [
  {
   "cell_type": "code",
   "execution_count": 1,
   "metadata": {
    "collapsed": false
   },
   "outputs": [
    {
     "name": "stdout",
     "output_type": "stream",
     "text": [
      "expression curvature = ConvexVexity()\n",
      "expression sign = Positive()\n"
     ]
    }
   ],
   "source": [
    "# DCP analysis in Convex.jl\n",
    "using Convex\n",
    "x = Variable();\n",
    "y = Variable();\n",
    "expr = quad_over_lin(x - y, 1 - max(x, y));\n",
    "println(\"expression curvature = \", vexity(expr));\n",
    "println(\"expression sign = \", sign(expr));"
   ]
  }
 ],
 "metadata": {
  "kernelspec": {
   "display_name": "Julia 0.3.9",
   "language": "julia",
   "name": "julia-0.3"
  },
  "language_info": {
   "name": "julia",
   "version": "0.3.9"
  }
 },
 "nbformat": 4,
 "nbformat_minor": 0
}
