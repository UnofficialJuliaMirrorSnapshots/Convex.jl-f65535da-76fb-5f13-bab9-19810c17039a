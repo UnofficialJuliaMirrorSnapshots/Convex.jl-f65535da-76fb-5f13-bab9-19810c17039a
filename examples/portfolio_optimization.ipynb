{
 "cells": [
  {
   "cell_type": "markdown",
   "metadata": {},
   "source": [
    "#  Portfolio Optimization\n",
    "\n",
    "In this problem, we will find the portfolio allocation that minimizes risk while achieving a given expected return $R_\\mbox{target}$.\n",
    "\n",
    "Suppose that we know the mean returns $\\mu \\in \\mathbf{R}^n$ and the covariance $\\Sigma \\in \\mathbf{R}^{n \\times n}$ of the $n$ assets. We would like to find a portfolio allocation $w \\in \\mathbf{R}^n$, $\\sum_i w_i = 1$, minimizing the *risk* of the portfolio, which we measure as the variance $w^T \\Sigma w$ of the portfolio. The requirement that the portfolio allocation achieve the target expected return can be expressed as $w^T \\mu >= R_\\mbox{target}$. We suppose further that our portfolio allocation must comply with some lower and upper bounds on the allocation, $w_\\mbox{lower} \\leq w \\leq w_\\mbox{upper}$.\n",
    "\n",
    "This problem can be written as\n",
    "\n",
    "$\n",
    "\\begin{array}{ll}\n",
    "    \\mbox{minimize}   & w^T \\Sigma w \\\\\n",
    "    \\mbox{subject to} & w^T \\mu >= R_\\mbox{target} \\\\\n",
    "                      & \\sum_i w_i = 1 \\\\\n",
    "                      & w_\\mbox{lower} \\leq w \\leq w_\\mbox{upper}\n",
    "\\end{array}\n",
    "$\n",
    "\n",
    "where $w \\in \\mathbf{R}^n$ is our optimization variable."
   ]
  },
  {
   "cell_type": "code",
   "execution_count": 1,
   "metadata": {},
   "outputs": [],
   "source": [
    "using Convex, SCS\n",
    "\n",
    "# generate problem data\n",
    "μ = [11.5; 9.5; 6]/100          #expected returns\n",
    "Σ  = [166  34  58;              #covariance matrix\n",
    "       34  64   4;\n",
    "       58   4 100]/100^2\n",
    "\n",
    "n = length(μ)                   #number of assets \n",
    "\n",
    "R_target = 0.1\n",
    "w_lower = 0\n",
    "w_upper = 0.5;"
   ]
  },
  {
   "cell_type": "markdown",
   "metadata": {},
   "source": [
    "If you want to try the optimization with more assets, uncomment and run the next cell. It creates a vector or average returns and a variance-covariance matrix that have scales similar to the numbers above."
   ]
  },
  {
   "cell_type": "code",
   "execution_count": 2,
   "metadata": {},
   "outputs": [],
   "source": [
    "#=\n",
    "using Random\n",
    "Random.seed!(123)\n",
    "\n",
    "n = 15                                      #number of assets, CHANGE IT?\n",
    "\n",
    "μ = (6 .+ (11.5-6)*rand(n))/100             #mean\n",
    "A = randn(n,n)\n",
    "Σ = (A * A' + diagm(0=>rand(n)))/500;       #covariance matrix\n",
    "=#"
   ]
  },
  {
   "cell_type": "code",
   "execution_count": 2,
   "metadata": {},
   "outputs": [
    {
     "name": "stdout",
     "output_type": "stream",
     "text": [
      "----------------------------------------------------------------------------\n",
      "\tSCS v2.0.2 - Splitting Conic Solver\n",
      "\t(c) Brendan O'Donoghue, Stanford University, 2012-2017\n",
      "----------------------------------------------------------------------------\n",
      "Lin-sys: sparse-indirect, nnz in A = 27, CG tol ~ 1/iter^(2.00)\n",
      "eps = 1.00e-005, alpha = 1.50, max_iters = 5000, normalize = 1, scale = 1.00\n",
      "acceleration_lookback = 20, rho_x = 1.00e-003\n",
      "Variables n = 6, constraints m = 17\n",
      "Cones:\tprimal zero / dual free vars: 2\n",
      "\tlinear vars: 8\n",
      "\tsoc vars: 7, soc blks: 2\n",
      "Setup time: 4.89e-005s\n",
      "----------------------------------------------------------------------------\n",
      " Iter | pri res | dua res | rel gap | pri obj | dua obj | kap/tau | time (s)\n",
      "----------------------------------------------------------------------------\n",
      "     0|3.46e+019 2.62e+019 1.00e+000 -6.54e+019 7.73e+018 1.06e+019 2.73e-005 \n",
      "    60|2.16e-008 5.74e-008 7.46e-008 6.32e-003 6.32e-003 1.21e-016 2.45e-004 \n",
      "----------------------------------------------------------------------------\n",
      "Status: Solved\n",
      "Timing: Solve time: 2.49e-004s\n",
      "\tLin-sys: avg # CG iterations: 2.54, avg solve time: 1.16e-006s\n",
      "\tCones: avg projection time: 9.51e-008s\n",
      "\tAcceleration: avg step time: 1.78e-006s\n",
      "----------------------------------------------------------------------------\n",
      "Error metrics:\n",
      "dist(s, K) = 3.0045e-015, dist(y, K*) = 6.0230e-015, s'y/|s||y| = -9.9070e-016\n",
      "primal res: |Ax + s - b|_2 / (1 + |b|_2) = 2.1634e-008\n",
      "dual res:   |A'y + c|_2 / (1 + |c|_2) = 5.7439e-008\n",
      "rel gap:    |c'x + b'y| / (1 + |c'x| + |b'y|) = 7.4638e-008\n",
      "----------------------------------------------------------------------------\n",
      "c'x = 0.0063, -b'y = 0.0063\n",
      "============================================================================\n"
     ]
    }
   ],
   "source": [
    "w    = Variable(n)\n",
    "ret  = dot(w,μ)\n",
    "risk = quadform(w,Σ)\n",
    "\n",
    "p = minimize( risk, \n",
    "              ret >= R_target, \n",
    "              sum(w) == 1, \n",
    "              w_lower <= w, \n",
    "              w <= w_upper )\n",
    "\n",
    "solve!(p, SCSSolver())     #use SCSSolver(verbose = false) to suppress printing"
   ]
  },
  {
   "cell_type": "code",
   "execution_count": 3,
   "metadata": {},
   "outputs": [
    {
     "data": {
      "text/plain": [
       "\"Optimal portfolio weights\""
      ]
     },
     "metadata": {},
     "output_type": "display_data"
    },
    {
     "data": {
      "text/plain": [
       "3×1 Array{Float64,2}:\n",
       " 0.40909103267633684\n",
       " 0.5000000044451999 \n",
       " 0.09090892365112054"
      ]
     },
     "metadata": {},
     "output_type": "display_data"
    }
   ],
   "source": [
    "display(\"Optimal portfolio weights\")\n",
    "display(w.value)"
   ]
  },
  {
   "cell_type": "code",
   "execution_count": 4,
   "metadata": {},
   "outputs": [
    {
     "data": {
      "text/plain": [
       "0.9999999607726573"
      ]
     },
     "execution_count": 4,
     "metadata": {},
     "output_type": "execute_result"
    }
   ],
   "source": [
    "sum(w.value)"
   ]
  }
 ],
 "metadata": {
  "@webio": {
   "lastCommId": null,
   "lastKernelId": null
  },
  "kernelspec": {
   "display_name": "Julia 1.2.0",
   "language": "julia",
   "name": "julia-1.2"
  },
  "language_info": {
   "file_extension": ".jl",
   "mimetype": "application/julia",
   "name": "julia",
   "version": "1.2.0"
  }
 },
 "nbformat": 4,
 "nbformat_minor": 1
}
