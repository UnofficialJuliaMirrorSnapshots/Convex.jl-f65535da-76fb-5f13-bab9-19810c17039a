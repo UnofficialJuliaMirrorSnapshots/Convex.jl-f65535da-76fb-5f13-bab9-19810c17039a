{
 "cells": [
  {
   "cell_type": "code",
   "execution_count": null,
   "metadata": {},
   "outputs": [],
   "source": [
    "using Convex\n",
    "using LinearAlgebra\n",
    "if VERSION < v\"1.2.0-DEV.0\"\n",
    "    (I::UniformScaling)(n::Integer) = Diagonal(fill(I.λ, n))\n",
    "end\n",
    "\n",
    "using SCS\n",
    "# passing in verbose=0 to hide output from SCS\n",
    "solver = SCSSolver(verbose=0)"
   ]
  },
  {
   "cell_type": "markdown",
   "metadata": {},
   "source": [
    "### Linear program\n",
    "$$\n",
    "\\begin{array}{ll}\n",
    "  \\mbox{maximize} & c^T x \\\\\n",
    "  \\mbox{subject to} & A x \\leq b\\\\\n",
    "  & x \\geq 1 \\\\\n",
    "  & x \\leq 10 \\\\\n",
    "  & x_2 \\leq 5 \\\\\n",
    "  & x_1 + x_4 - x_2 \\leq 10 \\\\\n",
    "\\end{array}\n",
    "$$"
   ]
  },
  {
   "cell_type": "code",
   "execution_count": null,
   "metadata": {},
   "outputs": [],
   "source": [
    "x = Variable(4)\n",
    "c = [1; 2; 3; 4]\n",
    "A = I(4)\n",
    "b = [10; 10; 10; 10]\n",
    "p = minimize(dot(c, x)) # or c' * x\n",
    "p.constraints += A * x <= b\n",
    "p.constraints += [x >= 1; x <= 10; x[2] <= 5; x[1] + x[4] - x[2] <= 10]\n",
    "solve!(p, solver)\n",
    "\n",
    "println(round(p.optval, digits=2))\n",
    "println(round.(x.value, digits=2))\n",
    "println(evaluate(x[1] + x[4] - x[2]))"
   ]
  },
  {
   "cell_type": "markdown",
   "metadata": {},
   "source": [
    "### Matrix Variables and promotions\n",
    "$$\n",
    "\\begin{array}{ll}\n",
    "  \\mbox{minimize} & \\| X \\|_F + y \\\\\n",
    "  \\mbox{subject to} & 2 X \\leq 1\\\\\n",
    "  & X' + y \\geq 1 \\\\\n",
    "  & X \\geq 0 \\\\\n",
    "  & y \\geq 0 \\\\\n",
    "\\end{array}\n",
    "$$"
   ]
  },
  {
   "cell_type": "code",
   "execution_count": null,
   "metadata": {},
   "outputs": [],
   "source": [
    "X = Variable(2, 2)\n",
    "y = Variable()\n",
    "# X is a 2 x 2 variable, and y is scalar. X' + y promotes y to a 2 x 2 variable before adding them\n",
    "p = minimize(norm(X) + y, 2 * X <= 1, X' + y >= 1, X >= 0, y >= 0)\n",
    "solve!(p, solver)\n",
    "println(round.(X.value, digits=2))\n",
    "println(y.value)\n",
    "p.optval"
   ]
  },
  {
   "cell_type": "markdown",
   "metadata": {},
   "source": [
    "### Norm, exponential and geometric mean\n",
    "$$\n",
    "\\begin{array}{ll}\n",
    "  \\mbox{satisfy} & \\| x \\|_2 \\leq 100 \\\\\n",
    "  & e^{x_1} \\leq 5 \\\\\n",
    "  & x_2 \\geq 7 \\\\\n",
    "  & \\sqrt{x_3 x_4} \\geq x_2\n",
    "\\end{array}\n",
    "$$"
   ]
  },
  {
   "cell_type": "code",
   "execution_count": null,
   "metadata": {},
   "outputs": [],
   "source": [
    "x = Variable(4)\n",
    "p = satisfy(norm(x) <= 100, exp(x[1]) <= 5, x[2] >= 7, geomean(x[3], x[4]) >= x[2])\n",
    "solve!(p, SCSSolver(verbose=0))\n",
    "println(p.status)\n",
    "x.value"
   ]
  },
  {
   "cell_type": "markdown",
   "metadata": {},
   "source": [
    "### SDP cone and Eigenvalues\n"
   ]
  },
  {
   "cell_type": "code",
   "execution_count": null,
   "metadata": {},
   "outputs": [],
   "source": [
    "y = Semidefinite(2)\n",
    "p = maximize(lambdamin(y), tr(y)<=6)\n",
    "solve!(p, SCSSolver(verbose=0))\n",
    "p.optval"
   ]
  },
  {
   "cell_type": "code",
   "execution_count": null,
   "metadata": {},
   "outputs": [],
   "source": [
    "x = Variable()\n",
    "y = Variable((2, 2))\n",
    "# SDP constraints\n",
    "p = minimize(x + y[1, 1], isposdef(y), x >= 1, y[2, 1] == 1)\n",
    "solve!(p, solver)\n",
    "y.value"
   ]
  },
  {
   "cell_type": "markdown",
   "metadata": {},
   "source": [
    "### Mixed integer program\n",
    "$$\n",
    "\\begin{array}{ll}\n",
    "  \\mbox{minimize} & \\sum_{i=1}^n x_i \\\\\n",
    "    \\mbox{subject to} & x \\in \\mathbb{Z}^n \\\\\n",
    "  & x \\geq 0.5 \\\\\n",
    "\\end{array}\n",
    "$$"
   ]
  },
  {
   "cell_type": "code",
   "execution_count": null,
   "metadata": {},
   "outputs": [],
   "source": [
    "using GLPKMathProgInterface\n",
    "x = Variable(4, :Int)\n",
    "p = minimize(sum(x), x >= 0.5)\n",
    "solve!(p, GLPKSolverMIP())\n",
    "x.value"
   ]
  },
  {
   "cell_type": "code",
   "execution_count": null,
   "metadata": {},
   "outputs": [],
   "source": []
  }
 ],
 "metadata": {
  "kernelspec": {
   "display_name": "Julia 1.2.0",
   "language": "julia",
   "name": "julia-1.2"
  },
  "language_info": {
   "file_extension": ".jl",
   "mimetype": "application/julia",
   "name": "julia",
   "version": "1.2.0"
  }
 },
 "nbformat": 4,
 "nbformat_minor": 1
}
